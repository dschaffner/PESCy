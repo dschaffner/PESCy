{
 "cells": [
  {
   "cell_type": "markdown",
   "id": "3cdaf88e-b817-4652-8ac6-96429ba129a9",
   "metadata": {},
   "source": [
    "# Using the PESCy module"
   ]
  },
  {
   "cell_type": "markdown",
   "id": "0b127c23-de3f-4ff0-ac05-bae331c2f017",
   "metadata": {},
   "source": [
    "Import the PESCy module if you have it installed already, get the source code from https://github.com/dschaffner/PESCy, or install it using \n",
    "```Python\n",
    "pip install git+https://github.com/dschaffner/PESCy\n",
    "```"
   ]
  },
  {
   "cell_type": "code",
   "execution_count": 1,
   "id": "bd169a9b-501f-4461-9062-89f6eeb5a639",
   "metadata": {},
   "outputs": [],
   "source": [
    "import PESCy"
   ]
  },
  {
   "cell_type": "markdown",
   "id": "409b4211-8281-46cf-8f42-61418b9f228d",
   "metadata": {},
   "source": [
    "Let's first generate some time series to use the PESCy technique on. Let's make a sine wave timeseries, a noise timeseries and a chaotic timeseries. First, define an array range of 10000 elements scaled to 1000:\n",
    "```Python\n",
    "import numpy as np\n",
    "x = np.arange(10000)*0.001\n",
    "```\n",
    "Then, define a sine wave as\n",
    "```Python\n",
    "sinewave=np.sin(2*np.pi*x)\n",
    "```\n"
   ]
  },
  {
   "cell_type": "code",
   "execution_count": null,
   "id": "0158e787-de5c-4304-922c-a0efba8f2c7f",
   "metadata": {},
   "outputs": [],
   "source": []
  },
  {
   "cell_type": "markdown",
   "id": "f6d2c5a9-4053-4dd9-ba02-9055d4c60986",
   "metadata": {},
   "source": [
    "Let's plot it really quick to see what it looks like. Don't forget to import ```matplotlib.pylab```. You'll also probably want to zoom in your plot along the x-axis to be able to see anything."
   ]
  },
  {
   "cell_type": "code",
   "execution_count": null,
   "id": "a72bf308-3b49-4811-921f-4f79b4bbcf8a",
   "metadata": {},
   "outputs": [],
   "source": []
  },
  {
   "cell_type": "markdown",
   "id": "57683e64-3c52-4fed-a31b-8c4812072caf",
   "metadata": {},
   "source": [
    "Good, now let's make a noise time series. We'll use numpy's random function:\n",
    "```Python\n",
    "noise = np.random.random(10000)\n",
    "```\n",
    "Plot it as well as a function of x from above. Zoom in to 0,0.1 to be able to see the fluctuations well. Note that every time you run the random() function, you'll get a new random array."
   ]
  },
  {
   "cell_type": "code",
   "execution_count": null,
   "id": "fdc3f7d8-d504-49d0-8858-20c1443d5a99",
   "metadata": {},
   "outputs": [],
   "source": []
  },
  {
   "cell_type": "markdown",
   "id": "7240d433-9818-4629-92c2-4da95f469085",
   "metadata": {},
   "source": [
    "Finally, let's make some chaotic time series. The PESCy module has a few versions built in. Some are baseed on an iterative map (Henon, Tent, Logistic) while others are solutions to differential equations (Lorenz). For this tutorial, we'll just use a Henon map. Generate a Henon map of 10000 elements using the followin function:\n",
    "```Python\n",
    "henon=PESCy.timeseries.generateHenon(10000)\n",
    "```\n",
    "As usual, plot it as a function of x, and pick a narrow range to display so you can see the features of the timeseries."
   ]
  },
  {
   "cell_type": "code",
   "execution_count": null,
   "id": "9261194f-0a15-45d2-af9a-ab1fa81c9015",
   "metadata": {},
   "outputs": [],
   "source": []
  },
  {
   "cell_type": "markdown",
   "id": "70209840-bb4f-4f9b-8014-d4734426fc94",
   "metadata": {},
   "source": [
    "Now we can start running our PESC analysis on the timeseries we generated. We going to start by using an embedding dimension of $n=5$ and an embedding delay of $\\tau=1$. Let's start computing the normalized Permutation Entropy, $H$, of the sine wave. We'll use the function ```calcH()``` which takes as arguments the timeseries array, the embedding dimension, and the embedding delay. We write:\n",
    "```Python\n",
    "sine_H = PESCy.PESCy_functions.calcH(sinewave,n=5,delay=1)\n",
    "sine_H\n",
    "```\n"
   ]
  },
  {
   "cell_type": "code",
   "execution_count": null,
   "id": "8ca21e8f-d6ea-4645-b60a-5885a3e6ca4f",
   "metadata": {},
   "outputs": [],
   "source": []
  },
  {
   "cell_type": "markdown",
   "id": "1660f8fe-132e-497d-bd19-799671b562ea",
   "metadata": {},
   "source": [
    "The function reports back two numbers, actually. The first is the one we want, the normalized permutation entroy, $H$. The second is the a number needed for later functions. Note that the value of $H$ for a pure sine wave is fairly low, but not zero. This is because even a simple sine wave exhibits more than 1 ordinal pattern at this time scale. Now try computing the values of $H$ for the noise timeseries and the Henon map. The value for $H$ should be near 1 for the noise and somewhere in between the sine wave and the noise for the Henon map."
   ]
  },
  {
   "cell_type": "code",
   "execution_count": null,
   "id": "6069681d-34b1-45ef-907b-018e3c2d6c00",
   "metadata": {},
   "outputs": [],
   "source": []
  },
  {
   "cell_type": "markdown",
   "id": "87c5465a-1c06-4a7c-8bcd-88a8d77877cc",
   "metadata": {},
   "source": [
    "We can now calculate the statistical complexity, $C$, for each timeseries. We'll use the function ```calcCofH()``` which uses the same arguments. In fact, the function calls ```calcH``` in it. The function returns now, the ordered pair of permutation entropy and statistical complexity, that can then be used as coordinates on the CH-plane. For the Henon map, this would look like:\n",
    "```Python\n",
    "henonCH = PESCy.PESCy_functions.calcCofH(henon,n=5,delay=1)\n",
    "henonCH\n",
    "```"
   ]
  },
  {
   "cell_type": "code",
   "execution_count": null,
   "id": "134a521b-7b89-4a44-a8f2-a7edab477c2b",
   "metadata": {},
   "outputs": [],
   "source": []
  },
  {
   "cell_type": "markdown",
   "id": "9f55b6be-e543-4a9d-a27c-ad21c6db9789",
   "metadata": {},
   "source": [
    "Let's now make a CH plane to view these three points using the function\n",
    "```Python\n",
    "PESCy.PESCy_functions.generateCurves()\n",
    "```\n",
    "This will generate a blank CH plane."
   ]
  },
  {
   "cell_type": "code",
   "execution_count": null,
   "id": "8f1ea2d5-3d45-4d51-a193-3ea1a0746647",
   "metadata": {},
   "outputs": [],
   "source": []
  },
  {
   "cell_type": "markdown",
   "id": "12f96e80-c309-4783-b280-b80bb46399b1",
   "metadata": {},
   "source": [
    "Now in the same cell above, right after the ```generateCurves()``` function, add code to plot the coordinates of each of the time series. Something like this:\n",
    "```Python\n",
    "plt.plot(henonCH[0],henonCH[1],linestyle='',marker='o',color='blue',label='Henon Map')\n",
    "plt.plot(sineCH[0],sineCH[1],linestyle='',marker='o',color='green',label='Sine')\n",
    "plt.plot(noiseCH[0],noiseCH[1],linestyle='',marker='o',color='red',label='Noise')\n",
    "```\n",
    "Add a lengend at the bottom with ```plt.legend(loc='lower center')```"
   ]
  },
  {
   "cell_type": "markdown",
   "id": "9eaec3b4-5066-4c8c-869a-f3711935fba9",
   "metadata": {},
   "source": [
    "## Entropy and Complexity Curves\n",
    "Next, we'll look at what happens to the entropy and compexity values as we very the embedding delay. We'll use the function ```calcPESCcurves()``` to do this. This function takes three arguments: the timeseries, the embedding dimension (which we'll keep at n=5 for now), and the maximum delay, $\\tau$. If we choose, say, a max delay of 100, then the CH coordinates for the timeseries will be generated for each delay between 1 and 100. The function will return two arrays, $H(\\tau)$, and $C(\\tau)$. Compute the entropy and complexity curves for the sine wave like this:\n",
    "```Python\n",
    "sineHs,sineCs = PESCy.PESCy_functions.calcPESCcurves(sinewave,n=5,max_delay=100)\n",
    "```"
   ]
  },
  {
   "cell_type": "code",
   "execution_count": null,
   "id": "026912aa-da6b-4842-8998-b866707a1c05",
   "metadata": {},
   "outputs": [],
   "source": []
  },
  {
   "cell_type": "markdown",
   "id": "89a2aac6-bef2-42cc-9719-a189edce625c",
   "metadata": {},
   "source": [
    "Once they are computed, you can plot them (if you just plot Cs or Hs without an x-axis, it will just assume an index array which is what we want anyway.\n",
    "```Python\n",
    "plt.plot(sineHs)\n",
    "plt.plot(sineCs)\n",
    "```"
   ]
  },
  {
   "cell_type": "code",
   "execution_count": null,
   "id": "bc6b1904-1a01-44d6-9737-2c0ee77aa183",
   "metadata": {},
   "outputs": [],
   "source": []
  },
  {
   "cell_type": "markdown",
   "id": "6c4ba9fc-9687-4894-827d-a1ddc0f9b7a7",
   "metadata": {},
   "source": [
    "Now do the same for the noise and henon timeseries and compare the curves of all three."
   ]
  },
  {
   "cell_type": "code",
   "execution_count": null,
   "id": "8f4d0152-b47d-4688-b925-b266d96cadb5",
   "metadata": {},
   "outputs": [],
   "source": []
  }
 ],
 "metadata": {
  "kernelspec": {
   "display_name": "Python 3",
   "language": "python",
   "name": "python3"
  },
  "language_info": {
   "codemirror_mode": {
    "name": "ipython",
    "version": 3
   },
   "file_extension": ".py",
   "mimetype": "text/x-python",
   "name": "python",
   "nbconvert_exporter": "python",
   "pygments_lexer": "ipython3",
   "version": "3.8.10"
  }
 },
 "nbformat": 4,
 "nbformat_minor": 5
}
